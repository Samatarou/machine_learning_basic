{
 "cells": [
  {
   "cell_type": "code",
   "execution_count": null,
   "metadata": {},
   "outputs": [],
   "source": [
    "import numpy as np\n",
    "\n",
    "import matplotlib.pyplot as plt\n",
    "\n",
    "from sklearn.linear_model import LinearRegression, Ridge, Lasso\n",
    "from sklearn.preprocessing import PolynomialFeatures, StandardScaler\n",
    "from sklearn.model_selection import train_test_split, GridSearchCV\n",
    "from sklearn.metrics import mean_squared_error, make_scorer"
   ]
  },
  {
   "cell_type": "code",
   "execution_count": null,
   "metadata": {},
   "outputs": [],
   "source": [
    "n = 30\n",
    "a, b = 2, 10\n",
    "X = np.sort(np.random.rand(n) * 10).reshape(-1, 1)\n",
    "Y = X**(1/4) + np.random.randn(*X.shape)*0.1"
   ]
  },
  {
   "cell_type": "code",
   "execution_count": null,
   "metadata": {},
   "outputs": [],
   "source": [
    "plt.scatter(X, Y, s=3)"
   ]
  },
  {
   "cell_type": "markdown",
   "metadata": {},
   "source": [
    "## Fit lineare"
   ]
  },
  {
   "cell_type": "code",
   "execution_count": null,
   "metadata": {},
   "outputs": [],
   "source": [
    "lr = LinearRegression()\n",
    "lr.fit(X, Y)"
   ]
  },
  {
   "cell_type": "code",
   "execution_count": null,
   "metadata": {},
   "outputs": [],
   "source": [
    "a_, b_ = lr.coef_, lr.intercept_"
   ]
  },
  {
   "cell_type": "code",
   "execution_count": null,
   "metadata": {},
   "outputs": [],
   "source": [
    "a_, b_"
   ]
  },
  {
   "cell_type": "code",
   "execution_count": null,
   "metadata": {},
   "outputs": [],
   "source": [
    "fig, ax = plt.subplots(1, 1, figsize=(15, 8))\n",
    "ax.scatter(X, Y)\n",
    "ax.plot(X, X*a_ + b_, c='r')"
   ]
  },
  {
   "cell_type": "markdown",
   "metadata": {},
   "source": [
    "## Fit polinomiale"
   ]
  },
  {
   "cell_type": "code",
   "execution_count": null,
   "metadata": {
    "tags": []
   },
   "outputs": [],
   "source": [
    "fig, axes = plt.subplots(5, 1, figsize=(8, 30))\n",
    "\n",
    "for i, degree in enumerate([2, 4, 6, 8, 10]):\n",
    "    pf = PolynomialFeatures(degree=degree, include_bias=True)\n",
    "    poly_X = pf.fit_transform(X)\n",
    "    lr = LinearRegression(fit_intercept=False)\n",
    "    lr.fit(poly_X, Y)\n",
    "    \n",
    "    XX = np.linspace(0, 10, 1000).reshape(-1, 1)\n",
    "    poly_XX = np.hstack((XX**i for i in range(degree+1)))\n",
    "\n",
    "    \n",
    "    axes[i].scatter(X, Y)\n",
    "    axes[i].plot(XX, poly_XX@lr.coef_.reshape(-1, 1), c='r', label=f'deg={degree}')\n",
    "    axes[i].set_ylim(0, 2)\n",
    "    axes[i].legend()"
   ]
  },
  {
   "cell_type": "markdown",
   "metadata": {},
   "source": [
    "## Dataset più grande"
   ]
  },
  {
   "cell_type": "code",
   "execution_count": null,
   "metadata": {},
   "outputs": [],
   "source": [
    "n = 10_000\n",
    "a, b = 2, 10\n",
    "X = np.sort(np.random.rand(n) * 10).reshape(-1, 1)\n",
    "Y = X**(1/4) + np.random.randn(*X.shape)*0.1"
   ]
  },
  {
   "cell_type": "code",
   "execution_count": null,
   "metadata": {},
   "outputs": [],
   "source": [
    "plt.scatter(X, Y, s=1)"
   ]
  },
  {
   "cell_type": "code",
   "execution_count": null,
   "metadata": {},
   "outputs": [],
   "source": [
    "fig, axes = plt.subplots(5, 1, figsize=(8, 30))\n",
    "\n",
    "for i, degree in enumerate([2, 4, 6, 8, 10]):\n",
    "    pf = PolynomialFeatures(degree=degree, include_bias=True)\n",
    "    poly_X = pf.fit_transform(X)\n",
    "    lr = LinearRegression(fit_intercept=False)\n",
    "    lr.fit(poly_X, Y)\n",
    "    \n",
    "    XX = np.linspace(0, 10, 1000).reshape(-1, 1)\n",
    "    poly_XX = np.hstack((XX**i for i in range(degree+1)))\n",
    "\n",
    "    \n",
    "    axes[i].scatter(X, Y, s=1)\n",
    "    axes[i].plot(XX, poly_XX@lr.coef_.reshape(-1, 1), c='r', label=f'deg={degree}')\n",
    "    axes[i].set_ylim(0, 2)\n",
    "    axes[i].legend()"
   ]
  },
  {
   "cell_type": "markdown",
   "metadata": {},
   "source": [
    "## Data augmentation. Immagine e audio ecc..."
   ]
  },
  {
   "cell_type": "markdown",
   "metadata": {},
   "source": [
    "## Multidimensional regression"
   ]
  },
  {
   "cell_type": "code",
   "execution_count": null,
   "metadata": {},
   "outputs": [],
   "source": [
    "n = 100\n",
    "f = 50\n",
    "X = np.random.randn(n, f)"
   ]
  },
  {
   "cell_type": "code",
   "execution_count": null,
   "metadata": {},
   "outputs": [],
   "source": [
    "Y = 2*X[:, 0] + 3*X[:, 1] + np.random.randn(n)"
   ]
  },
  {
   "cell_type": "code",
   "execution_count": null,
   "metadata": {},
   "outputs": [],
   "source": [
    "X_train, X_test, Y_train, Y_test = train_test_split(X, Y, test_size = 0.2)"
   ]
  },
  {
   "cell_type": "code",
   "execution_count": null,
   "metadata": {
    "tags": []
   },
   "outputs": [],
   "source": [
    "lr = LinearRegression().fit(X_train, Y_train)"
   ]
  },
  {
   "cell_type": "code",
   "execution_count": null,
   "metadata": {
    "tags": []
   },
   "outputs": [],
   "source": [
    "Y_true_train = Y_train\n",
    "Y_pred_train = lr.predict(X_train)\n",
    "mse_train = mean_squared_error(Y_true_train, Y_pred_train)\n",
    "\n",
    "Y_true_test = Y_test\n",
    "Y_pred_test = lr.predict(X_test)\n",
    "mse_test = mean_squared_error(Y_true_test, Y_pred_test)\n",
    "\n",
    "print(f'mse_train={mse_train}, mse_test={mse_test}')"
   ]
  },
  {
   "cell_type": "code",
   "execution_count": null,
   "metadata": {},
   "outputs": [],
   "source": [
    "mse_test / mse_train"
   ]
  },
  {
   "cell_type": "markdown",
   "metadata": {},
   "source": [
    "## Ridge"
   ]
  },
  {
   "cell_type": "code",
   "execution_count": null,
   "metadata": {},
   "outputs": [],
   "source": [
    "mean_squared_error_scorer = make_scorer(mean_squared_error, greater_is_better=False)\n",
    "\n",
    "ridge = GridSearchCV(estimator=Ridge(), param_grid={'alpha': np.logspace(-10, 10, num=1000)}, scoring=mean_squared_error_scorer, verbose=1)"
   ]
  },
  {
   "cell_type": "code",
   "execution_count": null,
   "metadata": {
    "tags": []
   },
   "outputs": [],
   "source": [
    "ridge.fit(X_train, Y_train)"
   ]
  },
  {
   "cell_type": "code",
   "execution_count": null,
   "metadata": {},
   "outputs": [],
   "source": [
    "Y_true_test = Y_test\n",
    "Y_pred_test = ridge.predict(X_test)\n",
    "mse_test = mean_squared_error(Y_true_test, Y_pred_test)\n",
    "mse_test"
   ]
  },
  {
   "cell_type": "code",
   "execution_count": null,
   "metadata": {},
   "outputs": [],
   "source": [
    "ridge.best_estimator_.coef_"
   ]
  },
  {
   "cell_type": "markdown",
   "metadata": {},
   "source": [
    "## Lasso"
   ]
  },
  {
   "cell_type": "code",
   "execution_count": null,
   "metadata": {},
   "outputs": [],
   "source": [
    "mean_squared_error_scorer = make_scorer(mean_squared_error, greater_is_better=False)\n",
    "\n",
    "lasso = GridSearchCV(estimator=Lasso(), param_grid={'alpha': np.logspace(-10, 10, num=1000)}, scoring=mean_squared_error_scorer, verbose=1)"
   ]
  },
  {
   "cell_type": "code",
   "execution_count": null,
   "metadata": {
    "tags": []
   },
   "outputs": [],
   "source": [
    "lasso.fit(X_train, Y_train)"
   ]
  },
  {
   "cell_type": "code",
   "execution_count": null,
   "metadata": {},
   "outputs": [],
   "source": [
    "Y_true_test = Y_test\n",
    "Y_pred_test = lasso.predict(X_test)\n",
    "mse_test = mean_squared_error(Y_true_test, Y_pred_test)\n",
    "mse_test"
   ]
  },
  {
   "cell_type": "code",
   "execution_count": null,
   "metadata": {},
   "outputs": [],
   "source": [
    "lasso.best_estimator_.coef_"
   ]
  },
  {
   "cell_type": "markdown",
   "metadata": {},
   "source": [
    "## Regolarizzazione fit polinomiale"
   ]
  },
  {
   "cell_type": "code",
   "execution_count": null,
   "metadata": {},
   "outputs": [],
   "source": [
    "n = 30\n",
    "a, b = 2, 10\n",
    "X = np.sort(np.random.rand(n) * 10).reshape(-1, 1)\n",
    "Y = X**(1/4) + np.random.randn(*X.shape)*0.1"
   ]
  },
  {
   "cell_type": "code",
   "execution_count": null,
   "metadata": {},
   "outputs": [],
   "source": [
    "plt.scatter(X, Y, s=3)"
   ]
  },
  {
   "cell_type": "code",
   "execution_count": null,
   "metadata": {},
   "outputs": [],
   "source": [
    "fig, ax = plt.subplots(1, 1, figsize=(10, 10))\n",
    "\n",
    "degree = 10\n",
    "pf = PolynomialFeatures(degree=degree, include_bias=True)\n",
    "poly_X = pf.fit_transform(X)\n",
    "lr = LinearRegression(fit_intercept=False)\n",
    "lr.fit(poly_X, Y)\n",
    "\n",
    "XX = np.linspace(0, 10, 1000).reshape(-1, 1)\n",
    "poly_XX = np.hstack((XX**i for i in range(degree+1)))\n",
    "\n",
    "\n",
    "ax.scatter(X, Y)\n",
    "ax.plot(XX, poly_XX@lr.coef_.reshape(-1, 1), c='r', label=f'deg={degree}')\n",
    "ax.set_ylim(0, 2)\n",
    "ax.legend()"
   ]
  },
  {
   "cell_type": "code",
   "execution_count": null,
   "metadata": {},
   "outputs": [],
   "source": [
    "fig, axes = plt.subplots(10, 1, figsize=(10, 60))\n",
    "\n",
    "for i, alpha in enumerate(np.logspace(-5, 5, 10)):\n",
    "    degree = 10\n",
    "    pf = PolynomialFeatures(degree=degree, include_bias=True)\n",
    "    poly_X = pf.fit_transform(X)\n",
    "    lr = Ridge(alpha=alpha, fit_intercept=False)\n",
    "    lr.fit(poly_X, Y)\n",
    "\n",
    "    XX = np.linspace(0, 10, 1000).reshape(-1, 1)\n",
    "    poly_XX = np.hstack((XX**i for i in range(degree+1)))\n",
    "\n",
    "\n",
    "    axes[i].scatter(X, Y)\n",
    "    axes[i].plot(XX, poly_XX@lr.coef_.reshape(-1, 1), c='r', label=f'alpha={alpha}')\n",
    "    axes[i].set_ylim(0, 2)\n",
    "    axes[i].legend()"
   ]
  },
  {
   "cell_type": "markdown",
   "metadata": {},
   "source": [
    " ## distribuzione delle features"
   ]
  },
  {
   "cell_type": "code",
   "execution_count": null,
   "metadata": {},
   "outputs": [],
   "source": [
    "poly_X.shape"
   ]
  },
  {
   "cell_type": "code",
   "execution_count": null,
   "metadata": {},
   "outputs": [],
   "source": [
    "degree = range(11)\n",
    "means = poly_X.mean(axis=0)\n",
    "\n",
    "plt.figure()\n",
    "plt.yscale('log')\n",
    "plt.scatter(degree, means)"
   ]
  },
  {
   "cell_type": "code",
   "execution_count": null,
   "metadata": {},
   "outputs": [],
   "source": [
    "scaler = StandardScaler()\n",
    "scaled_poly_X = scaler.fit_transform(poly_X)"
   ]
  },
  {
   "cell_type": "code",
   "execution_count": null,
   "metadata": {},
   "outputs": [],
   "source": [
    "degree = range(11)\n",
    "means = scaled_poly_X.mean(axis=0)\n",
    "\n",
    "plt.figure()\n",
    "plt.scatter(degree, means)"
   ]
  },
  {
   "cell_type": "code",
   "execution_count": null,
   "metadata": {},
   "outputs": [],
   "source": [
    "fig, axes = plt.subplots(10, 1, figsize=(10, 60))\n",
    "\n",
    "for i, alpha in enumerate(np.logspace(-10, 5, 10)):\n",
    "    degree = 10\n",
    "    pf = PolynomialFeatures(degree=degree, include_bias=True)\n",
    "    poly_X = pf.fit_transform(X)\n",
    "\n",
    "    scaled_Poly_X = scaler.fit_transform(poly_X)\n",
    "\n",
    "    lr = Ridge(alpha=alpha, fit_intercept=True)\n",
    "    lr.fit(scaled_Poly_X, Y)\n",
    "\n",
    "    XX = np.linspace(0, 10, 1000).reshape(-1, 1)\n",
    "    poly_XX = np.hstack((XX**i for i in range(degree+1)))\n",
    "\n",
    "    scaled_Poly_XX = scaler.transform(poly_XX)\n",
    "\n",
    "\n",
    "    axes[i].scatter(X, Y)\n",
    "    axes[i].plot(XX, lr.predict(scaled_Poly_XX), c='r', label=f'alpha={alpha}')\n",
    "    axes[i].set_ylim(0, 2)\n",
    "    axes[i].legend()"
   ]
  }
 ],
 "metadata": {
  "language_info": {
   "codemirror_mode": {
    "name": "ipython",
    "version": 3
   },
   "file_extension": ".py",
   "mimetype": "text/x-python",
   "name": "python",
   "nbconvert_exporter": "python",
   "pygments_lexer": "ipython3",
   "version": "3.7.4-final"
  },
  "orig_nbformat": 2,
  "kernelspec": {
   "name": "python37464bitbaseconda23e937e95969445babd8b9c091f71447",
   "display_name": "Python 3.7.4 64-bit ('base': conda)"
  }
 },
 "nbformat": 4,
 "nbformat_minor": 2
}