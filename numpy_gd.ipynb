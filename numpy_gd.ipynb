{
 "cells": [
  {
   "cell_type": "code",
   "execution_count": null,
   "metadata": {},
   "outputs": [],
   "source": [
    "import numpy as np"
   ]
  },
  {
   "cell_type": "code",
   "execution_count": null,
   "metadata": {},
   "outputs": [],
   "source": [
    "np.random.seed(0)\n",
    "\n",
    "n = 10_000\n",
    "f_minus_1 = 3\n",
    "\n",
    "bias = 4\n",
    "\n",
    "X = np.random.rand(n, f_minus_1)\n",
    "X = np.hstack((np.ones((n, 1)), X))\n",
    "y = X@np.array([[1], [2], [3], [4]]) + np.random.randn(n, 1)\n"
   ]
  },
  {
   "cell_type": "code",
   "execution_count": null,
   "metadata": {},
   "outputs": [],
   "source": [
    "def get_gradient(X_batch, y_batch, w):\n",
    "    ''' Ritorna il gradiente della loss MSE\n",
    "\n",
    "    Params\n",
    "    ------\n",
    "    X (np.array n x f): sotto-matrice delle features (batch?)\n",
    "    y (np.array n): targets associati\n",
    "    w (np.array f): parametri\n",
    "\n",
    "    Ret\n",
    "    ---\n",
    "    gradient (np.array)\n",
    "    '''"
   ]
  },
  {
   "cell_type": "code",
   "execution_count": null,
   "metadata": {},
   "outputs": [],
   "source": [
    "# generatore\n",
    "def get_batch(X, y, batch_size):\n",
    "    ''' Ritorna in sequenza i batch.\n",
    "    L'ultimo può essere meno numeroso di batch_size\n",
    "\n",
    "    Params\n",
    "    ------\n",
    "    X (np.array n x f): matrice delle features\n",
    "    y (np.array n): targets\n",
    "    batch_size: numero di campioni per batch\n",
    "\n",
    "    Yield\n",
    "    ------\n",
    "    (X_batch, y_batch)\n",
    "    X_batch (np.array batch_size x f): features del batch\n",
    "    y_batch (np.array batch_size): targets del batch\n",
    "    '''"
   ]
  },
  {
   "cell_type": "code",
   "execution_count": null,
   "metadata": {},
   "outputs": [],
   "source": [
    "def linear_regression_grad_desc(X, y, w_0, lr, eps, max_epochs, batch_size):\n",
    "    ''' Esegue un gradient descent\n",
    "\n",
    "    Params\n",
    "    ------\n",
    "    X (np.array n x f): matrice delle features\n",
    "    y (np.array n): targets\n",
    "    w_0 (np.array f): parametri iniziali\n",
    "    lr: learning rate\n",
    "    eps: convergenza se |w_n-w_(n-1)|< eps\n",
    "    max_epochs: numero massimo di epoche (si interrompe anche senza convergenza)\n",
    "    batch_size: numero di campioni per batch\n",
    "\n",
    "    Ret\n",
    "    ---\n",
    "    (convergence, w)\n",
    "    convergence: bool. Se è stata raggiunta la convergenza\n",
    "    w: i parametri finali\n",
    "    '''\n"
   ]
  },
  {
   "cell_type": "code",
   "execution_count": null,
   "metadata": {},
   "outputs": [],
   "source": []
  }
 ],
 "metadata": {
  "language_info": {
   "codemirror_mode": {
    "name": "ipython",
    "version": 3
   },
   "file_extension": ".py",
   "mimetype": "text/x-python",
   "name": "python",
   "nbconvert_exporter": "python",
   "pygments_lexer": "ipython3",
   "version": "3.7.4-final"
  },
  "orig_nbformat": 2,
  "kernelspec": {
   "name": "python37464bitbaseconda23e937e95969445babd8b9c091f71447",
   "display_name": "Python 3.7.4 64-bit ('base': conda)"
  }
 },
 "nbformat": 4,
 "nbformat_minor": 2
}