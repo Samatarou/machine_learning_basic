{
  "nbformat": 4,
  "nbformat_minor": 0,
  "metadata": {
    "language_info": {
      "codemirror_mode": {
        "name": "ipython",
        "version": 3
      },
      "file_extension": ".py",
      "mimetype": "text/x-python",
      "name": "python",
      "nbconvert_exporter": "python",
      "pygments_lexer": "ipython3",
      "version": "3.7.4-final"
    },
    "orig_nbformat": 2,
    "kernelspec": {
      "name": "python37464bitbaseconda23e937e95969445babd8b9c091f71447",
      "display_name": "Python 3.7.4 64-bit ('base': conda)"
    },
    "colab": {
      "name": "python_tutorial.ipynb",
      "provenance": [],
      "collapsed_sections": [
        "TsoZcQp4Gyz5",
        "Bj-aqSPDGy0G",
        "o6M8hqKOGy0r",
        "Azoi04ODGy05",
        "MT76tenNGy06",
        "XYmoINjUGy09",
        "CsvHwDIvGy1J",
        "snh4qtxLGy1R"
      ]
    }
  },
  "cells": [
    {
      "cell_type": "markdown",
      "metadata": {
        "id": "mzxIz47rGyya",
        "colab_type": "text"
      },
      "source": [
        "# Python tutorial"
      ]
    },
    {
      "cell_type": "code",
      "metadata": {
        "id": "08InbfZIGyyf",
        "colab_type": "code",
        "colab": {}
      },
      "source": [
        "# interi. Hanno una grandezza arbitraria\n",
        "x = 1\n",
        "type(x)"
      ],
      "execution_count": null,
      "outputs": []
    },
    {
      "cell_type": "markdown",
      "metadata": {
        "id": "NkR-zBWAGyyd",
        "colab_type": "text"
      },
      "source": [
        "## Tipi di dati fondamentali"
      ]
    },
    {
      "cell_type": "code",
      "metadata": {
        "id": "kBjKc4q0Gyyq",
        "colab_type": "code",
        "colab": {}
      },
      "source": [
        "# binario, esadecimale, ottale\n",
        "0b1000100, 0xfa2e, 0o2431"
      ],
      "execution_count": null,
      "outputs": []
    },
    {
      "cell_type": "code",
      "metadata": {
        "id": "V9UhTU4xGyyx",
        "colab_type": "code",
        "colab": {}
      },
      "source": [
        "# float\n",
        "x = 1.\n",
        "type(x)"
      ],
      "execution_count": null,
      "outputs": []
    },
    {
      "cell_type": "code",
      "metadata": {
        "id": "YDtRErKXGyy3",
        "colab_type": "code",
        "colab": {}
      },
      "source": [
        "# notazione esponenziale\n",
        "1e-3"
      ],
      "execution_count": null,
      "outputs": []
    },
    {
      "cell_type": "code",
      "metadata": {
        "id": "bwg3zZoCGyy7",
        "colab_type": "code",
        "colab": {}
      },
      "source": [
        "# complessi\n",
        "x = 1.0 - 1.0j\n",
        "type(x)"
      ],
      "execution_count": null,
      "outputs": []
    },
    {
      "cell_type": "code",
      "metadata": {
        "id": "9tcRb4zmGyzC",
        "colab_type": "code",
        "colab": {}
      },
      "source": [
        "# non esiste un tipo carattere in Python\n",
        "s = 'prova'\n",
        "type(s)"
      ],
      "execution_count": null,
      "outputs": []
    },
    {
      "cell_type": "code",
      "metadata": {
        "id": "KNqDTSgZGyy-",
        "colab_type": "code",
        "colab": {}
      },
      "source": [
        "#operazioni numeriche\n",
        "1.0 + 2.0, 1.0 - 2.0, 1.0 * 2.0, 1.0 / 2.0, 2**3, 5.0 // 2, 13 % 4"
      ],
      "execution_count": null,
      "outputs": []
    },
    {
      "cell_type": "code",
      "metadata": {
        "id": "7a1pR7E0I9a0",
        "colab_type": "code",
        "colab": {}
      },
      "source": [
        "13 % 4"
      ],
      "execution_count": null,
      "outputs": []
    },
    {
      "cell_type": "code",
      "metadata": {
        "id": "SGdamLa1GyzF",
        "colab_type": "code",
        "colab": {}
      },
      "source": [
        "s = \"'prova'\"; s"
      ],
      "execution_count": null,
      "outputs": []
    },
    {
      "cell_type": "code",
      "metadata": {
        "id": "jUrfPoc2GyzJ",
        "colab_type": "code",
        "colab": {}
      },
      "source": [
        "t = ''' testo con\n",
        "    molte\n",
        "righe\n",
        "'''\n",
        "print(t)"
      ],
      "execution_count": null,
      "outputs": []
    },
    {
      "cell_type": "code",
      "metadata": {
        "id": "SnR5zO8vGyzM",
        "colab_type": "code",
        "colab": {}
      },
      "source": [
        "s = '\\n\\nprova'; print(s)\n",
        "\n",
        "# raw string. Utili ad esempio nelle espressioni regolari e nei path\n",
        "s_raw = r'\\n\\nprova'; print(s_raw)"
      ],
      "execution_count": null,
      "outputs": []
    },
    {
      "cell_type": "code",
      "metadata": {
        "id": "WG2l9bPfGyzO",
        "colab_type": "code",
        "colab": {}
      },
      "source": [
        "b = True\n",
        "type(b)"
      ],
      "execution_count": null,
      "outputs": []
    },
    {
      "cell_type": "code",
      "metadata": {
        "id": "H8BTUsNLGyzQ",
        "colab_type": "code",
        "colab": {}
      },
      "source": [
        "# bool restituisce il valore booleano di un'espressione\n",
        "bool(1), bool(0), bool('stringa'), bool(''), bool([1, 2, 3]), bool([])"
      ],
      "execution_count": null,
      "outputs": []
    },
    {
      "cell_type": "code",
      "metadata": {
        "id": "QHSYLxAbKNRU",
        "colab_type": "code",
        "colab": {}
      },
      "source": [
        "if [1,2,3]:\n",
        "    print('piena')\n",
        "else:\n",
        "    print('vuota')"
      ],
      "execution_count": null,
      "outputs": []
    },
    {
      "cell_type": "markdown",
      "metadata": {
        "id": "9Gp-b80pGyzT",
        "colab_type": "text"
      },
      "source": [
        "## cast"
      ]
    },
    {
      "cell_type": "code",
      "metadata": {
        "id": "T0jt96weGyzU",
        "colab_type": "code",
        "colab": {}
      },
      "source": [
        "int(2.3), str(2.3), bool(1)"
      ],
      "execution_count": null,
      "outputs": []
    },
    {
      "cell_type": "markdown",
      "metadata": {
        "id": "9L8OOTQEGyzW",
        "colab_type": "text"
      },
      "source": [
        "## Strutture dati\n",
        "https://docs.python.org/3/tutorial/datastructures.html"
      ]
    },
    {
      "cell_type": "code",
      "metadata": {
        "id": "XJeumeXeGyzW",
        "colab_type": "code",
        "colab": {}
      },
      "source": [
        "# liste. Sono array dinamici\n",
        "l = [1, 2, 'stringa', 4, 5, 6, 7, 8, 9]"
      ],
      "execution_count": null,
      "outputs": []
    },
    {
      "cell_type": "code",
      "metadata": {
        "id": "-G8_C6Mxvlji",
        "colab_type": "code",
        "colab": {}
      },
      "source": [
        "3 in l, 4 in l"
      ],
      "execution_count": null,
      "outputs": []
    },
    {
      "cell_type": "code",
      "metadata": {
        "id": "pCKWguVmLMLp",
        "colab_type": "code",
        "colab": {}
      },
      "source": [
        "l.append(10); l"
      ],
      "execution_count": null,
      "outputs": []
    },
    {
      "cell_type": "code",
      "metadata": {
        "id": "Fe3_zYcmGyzY",
        "colab_type": "code",
        "colab": {}
      },
      "source": [
        "l[0] += 7; l[0];l"
      ],
      "execution_count": null,
      "outputs": []
    },
    {
      "cell_type": "code",
      "metadata": {
        "id": "yGVwNv3UGyza",
        "colab_type": "code",
        "colab": {}
      },
      "source": [
        "del l[1]; l"
      ],
      "execution_count": null,
      "outputs": []
    },
    {
      "cell_type": "code",
      "metadata": {
        "id": "MSVp2PL-Gyzc",
        "colab_type": "code",
        "colab": {}
      },
      "source": [
        "# primo indice incluso, ultimo escluso\n",
        "l[1:3]"
      ],
      "execution_count": null,
      "outputs": []
    },
    {
      "cell_type": "code",
      "metadata": {
        "id": "tYyMalMhGyze",
        "colab_type": "code",
        "colab": {}
      },
      "source": [
        "l[1:]"
      ],
      "execution_count": null,
      "outputs": []
    },
    {
      "cell_type": "code",
      "metadata": {
        "id": "2Z4XiZqlGyzg",
        "colab_type": "code",
        "colab": {}
      },
      "source": [
        "l[::2]"
      ],
      "execution_count": null,
      "outputs": []
    },
    {
      "cell_type": "code",
      "metadata": {
        "id": "J1AzchrPGyzi",
        "colab_type": "code",
        "colab": {}
      },
      "source": [
        "l[-1]"
      ],
      "execution_count": null,
      "outputs": []
    },
    {
      "cell_type": "code",
      "metadata": {
        "id": "TwyM1vjiGyzl",
        "colab_type": "code",
        "colab": {}
      },
      "source": [
        "l[::-1]"
      ],
      "execution_count": null,
      "outputs": []
    },
    {
      "cell_type": "code",
      "metadata": {
        "id": "9LtKk3GhGyzm",
        "colab_type": "code",
        "colab": {}
      },
      "source": [
        "l + ['a', 'b', 'c']"
      ],
      "execution_count": null,
      "outputs": []
    },
    {
      "cell_type": "code",
      "metadata": {
        "id": "B5Y2RzSjGyzr",
        "colab_type": "code",
        "colab": {}
      },
      "source": [
        "# Tuple. Sono immutabili. Molto utilizzate per funzioni che ritornano più valori\n",
        "(1, 2, 3)"
      ],
      "execution_count": null,
      "outputs": []
    },
    {
      "cell_type": "code",
      "metadata": {
        "id": "37Lat26gGyzp",
        "colab_type": "code",
        "colab": {}
      },
      "source": [
        "[1, 2] * 3"
      ],
      "execution_count": null,
      "outputs": []
    },
    {
      "cell_type": "code",
      "metadata": {
        "id": "s95Yep3vMw9C",
        "colab_type": "code",
        "colab": {}
      },
      "source": [
        "list((1, 2, 3))"
      ],
      "execution_count": null,
      "outputs": []
    },
    {
      "cell_type": "code",
      "metadata": {
        "id": "rtliQLvfNC1G",
        "colab_type": "code",
        "colab": {}
      },
      "source": [
        "t = (1, 2, 3)"
      ],
      "execution_count": null,
      "outputs": []
    },
    {
      "cell_type": "code",
      "metadata": {
        "id": "N5d342rENLXH",
        "colab_type": "code",
        "colab": {}
      },
      "source": [
        "t = ([1, 2, 3], 3, 4)"
      ],
      "execution_count": null,
      "outputs": []
    },
    {
      "cell_type": "code",
      "metadata": {
        "id": "esJWyQ7RN0qB",
        "colab_type": "code",
        "colab": {}
      },
      "source": [
        "t[0][0] += 1"
      ],
      "execution_count": null,
      "outputs": []
    },
    {
      "cell_type": "code",
      "metadata": {
        "id": "xmfGknnkOIyK",
        "colab_type": "code",
        "colab": {}
      },
      "source": [
        "t"
      ],
      "execution_count": null,
      "outputs": []
    },
    {
      "cell_type": "code",
      "metadata": {
        "id": "40qle_F1Gyzt",
        "colab_type": "code",
        "colab": {}
      },
      "source": [
        "# tupla con un singolo elemento\n",
        "(1,)"
      ],
      "execution_count": null,
      "outputs": []
    },
    {
      "cell_type": "code",
      "metadata": {
        "id": "liOuq2AhGyzv",
        "colab_type": "code",
        "colab": {}
      },
      "source": [
        "# set\n",
        "a = {1, 2, 2, 2, 3}\n",
        "b = {2, 4, 5, 6, 7}"
      ],
      "execution_count": null,
      "outputs": []
    },
    {
      "cell_type": "code",
      "metadata": {
        "id": "OoeYaQ8sOoZ9",
        "colab_type": "code",
        "colab": {}
      },
      "source": [
        "a"
      ],
      "execution_count": null,
      "outputs": []
    },
    {
      "cell_type": "code",
      "metadata": {
        "id": "QnNQZpfiGyzw",
        "colab_type": "code",
        "colab": {}
      },
      "source": [
        "a.union(b), a.intersection(b)"
      ],
      "execution_count": null,
      "outputs": []
    },
    {
      "cell_type": "code",
      "metadata": {
        "id": "UE4IyhsqOnBt",
        "colab_type": "code",
        "colab": {}
      },
      "source": [
        ""
      ],
      "execution_count": null,
      "outputs": []
    },
    {
      "cell_type": "code",
      "metadata": {
        "id": "v8Pl9kPCOm-a",
        "colab_type": "code",
        "colab": {}
      },
      "source": [
        ""
      ],
      "execution_count": null,
      "outputs": []
    },
    {
      "cell_type": "code",
      "metadata": {
        "id": "U22J1gkYGyzx",
        "colab_type": "code",
        "colab": {}
      },
      "source": [
        "# operatore in\n",
        "l = [1, 2, 3, 4]\n",
        "1 in l"
      ],
      "execution_count": null,
      "outputs": []
    },
    {
      "cell_type": "code",
      "metadata": {
        "id": "fVsFATbnO0SX",
        "colab_type": "code",
        "colab": {}
      },
      "source": [
        "d = {'a': 1, 'b': 2, 'c': 0}"
      ],
      "execution_count": null,
      "outputs": []
    },
    {
      "cell_type": "code",
      "metadata": {
        "id": "el1aqixyO0QE",
        "colab_type": "code",
        "colab": {}
      },
      "source": [
        "d.values()"
      ],
      "execution_count": null,
      "outputs": []
    },
    {
      "cell_type": "code",
      "metadata": {
        "id": "UR5wdD4EPGNn",
        "colab_type": "code",
        "colab": {}
      },
      "source": [
        "d['a']"
      ],
      "execution_count": null,
      "outputs": []
    },
    {
      "cell_type": "code",
      "metadata": {
        "id": "HmJgt6cIQEFG",
        "colab_type": "code",
        "colab": {}
      },
      "source": [
        "a = d.get('e', -1); a"
      ],
      "execution_count": null,
      "outputs": []
    },
    {
      "cell_type": "markdown",
      "metadata": {
        "id": "y3av0DrOua0J",
        "colab_type": "text"
      },
      "source": [
        "# File"
      ]
    },
    {
      "cell_type": "code",
      "metadata": {
        "id": "VC6H467xuaaZ",
        "colab_type": "code",
        "colab": {}
      },
      "source": [
        "with open('prova.txt', 'w') as f:\n",
        "    f.write('riga 1\\n')\n",
        "    f.write('riga 2\\n')"
      ],
      "execution_count": null,
      "outputs": []
    },
    {
      "cell_type": "code",
      "metadata": {
        "id": "kueVU16Tuy8Q",
        "colab_type": "code",
        "colab": {}
      },
      "source": [
        "with open('prova.txt', 'r') as f:\n",
        "    for line in f:\n",
        "        print(line)"
      ],
      "execution_count": null,
      "outputs": []
    },
    {
      "cell_type": "markdown",
      "metadata": {
        "id": "c7PoDvV5Gyzz",
        "colab_type": "text"
      },
      "source": [
        "# Strutture di controllo"
      ]
    },
    {
      "cell_type": "code",
      "metadata": {
        "id": "4yanvSiAGyz0",
        "colab_type": "code",
        "colab": {}
      },
      "source": [
        "a = 2\n",
        "if a < 2:\n",
        "    print('a < 2')\n",
        "elif 2 <= a < 4:\n",
        "    print('2 <= a < 4')\n",
        "else:\n",
        "    print('a >= 4')\n"
      ],
      "execution_count": null,
      "outputs": []
    },
    {
      "cell_type": "code",
      "metadata": {
        "id": "TWcbSlUPGyz1",
        "colab_type": "code",
        "colab": {}
      },
      "source": [
        "l = []\n",
        "for i in range(10):\n",
        "    l.append(i)\n",
        "print(l)"
      ],
      "execution_count": null,
      "outputs": []
    },
    {
      "cell_type": "code",
      "metadata": {
        "id": "uet8EiJWGyz3",
        "colab_type": "code",
        "colab": {}
      },
      "source": [
        "list(range(1, 10, 2))"
      ],
      "execution_count": null,
      "outputs": []
    },
    {
      "cell_type": "code",
      "metadata": {
        "id": "3WdrFgCYGyz4",
        "colab_type": "code",
        "colab": {}
      },
      "source": [
        "a = 1\n",
        "while a % 10 != 0:\n",
        "    print(a)\n",
        "    a += 1"
      ],
      "execution_count": null,
      "outputs": []
    },
    {
      "cell_type": "code",
      "metadata": {
        "id": "El5C_3GcpfWd",
        "colab_type": "code",
        "colab": {}
      },
      "source": [
        "a = 10\n",
        "b = 1 if a > 10 else 0"
      ],
      "execution_count": null,
      "outputs": []
    },
    {
      "cell_type": "markdown",
      "metadata": {
        "id": "TsoZcQp4Gyz5",
        "colab_type": "text"
      },
      "source": [
        "## Input output"
      ]
    },
    {
      "cell_type": "code",
      "metadata": {
        "id": "DyjmH5b0TbkP",
        "colab_type": "code",
        "colab": {}
      },
      "source": [
        "f = open('prova.txt', 'w')\n",
        "f.write('prima stringa\\n')\n",
        "f.write('seconda stringa')\n",
        "f.close()"
      ],
      "execution_count": null,
      "outputs": []
    },
    {
      "cell_type": "code",
      "metadata": {
        "id": "TVgTu533Gyz6",
        "colab_type": "code",
        "colab": {}
      },
      "source": [
        "with open('prova.txt', 'w') as f:\n",
        "    print(f.closed)\n",
        "    f.write('prima stringa\\n')\n",
        "    f.write('seconda stringa')\n",
        "print(f.closed)"
      ],
      "execution_count": null,
      "outputs": []
    },
    {
      "cell_type": "code",
      "metadata": {
        "id": "3pevjOrLGyz8",
        "colab_type": "code",
        "colab": {}
      },
      "source": [
        "with open('prova.txt', 'r') as f:\n",
        "    for line in f:\n",
        "        print(line, end='')"
      ],
      "execution_count": null,
      "outputs": []
    },
    {
      "cell_type": "markdown",
      "metadata": {
        "id": "88ogBVHZGyz-",
        "colab_type": "text"
      },
      "source": [
        "## Funzioni"
      ]
    },
    {
      "cell_type": "code",
      "metadata": {
        "id": "a-06Qm4FGyz-",
        "colab_type": "code",
        "colab": {}
      },
      "source": [
        "def double(x):\n",
        "    return x * 2"
      ],
      "execution_count": null,
      "outputs": []
    },
    {
      "cell_type": "code",
      "metadata": {
        "id": "Z64f6jtgGyz_",
        "colab_type": "code",
        "colab": {}
      },
      "source": [
        "# Ricorsione. In python non c'è tail call optimizazion\n",
        "def factorial(n):\n",
        "    if n == 0:\n",
        "        return 1\n",
        "    \n",
        "    return n * factorial(n-1)"
      ],
      "execution_count": null,
      "outputs": []
    },
    {
      "cell_type": "code",
      "metadata": {
        "id": "KdoQ76c8Gy0B",
        "colab_type": "code",
        "colab": {}
      },
      "source": [
        "def f(a, *args, **kwargs):\n",
        "    print(f'args={args}')\n",
        "    print(f'kwargs={kwargs}')"
      ],
      "execution_count": null,
      "outputs": []
    },
    {
      "cell_type": "code",
      "metadata": {
        "id": "Vn5zbVv-Gy0C",
        "colab_type": "code",
        "colab": {}
      },
      "source": [
        "f(1, a, c=11)"
      ],
      "execution_count": null,
      "outputs": []
    },
    {
      "cell_type": "code",
      "metadata": {
        "id": "_Szc8QvzGy0E",
        "colab_type": "code",
        "colab": {}
      },
      "source": [
        "# first class function\n",
        "a = f\n",
        "a"
      ],
      "execution_count": null,
      "outputs": []
    },
    {
      "cell_type": "code",
      "metadata": {
        "id": "JfDTqoJspu__",
        "colab_type": "code",
        "colab": {}
      },
      "source": [
        "# Esercizio 1\n",
        "# https://docs.python.org/3/library/string.html\n",
        "# https://docs.python.org/3/library/random.html\n",
        "\n",
        "# Funzioni, metodi e costanti utili:\n",
        "# join della classe str (stringa)\n",
        "# choices del modulo random\n",
        "# ascii_lowercase, ascii_uppercase, digits\n",
        "\n",
        "def create_password(length: int, min_uppercase: int) -> str :\n",
        "    ''' Genera una password\n",
        "\n",
        "    Args\n",
        "    ----\n",
        "    length: numero totale di caratteri\n",
        "    min_uppercase: minimo numero di lettere maiuscole (default=0)\n",
        "\n",
        "    Ret\n",
        "    ---\n",
        "    password\n",
        "    '''\n",
        "    pass"
      ],
      "execution_count": null,
      "outputs": []
    },
    {
      "cell_type": "markdown",
      "metadata": {
        "id": "Bj-aqSPDGy0G",
        "colab_type": "text"
      },
      "source": [
        "### funzioni interne e scoping"
      ]
    },
    {
      "cell_type": "code",
      "metadata": {
        "id": "Q9xfSDEMGy0H",
        "colab_type": "code",
        "colab": {}
      },
      "source": [
        "a = 2\n",
        "def f():\n",
        "    print(a)\n",
        "\n",
        "f()"
      ],
      "execution_count": null,
      "outputs": []
    },
    {
      "cell_type": "code",
      "metadata": {
        "id": "SG_k-ScBGy0I",
        "colab_type": "code",
        "colab": {}
      },
      "source": [
        "a = 2\n",
        "def f():\n",
        "    a = 3\n",
        "    print(a)\n",
        "\n",
        "f()\n",
        "print(a)"
      ],
      "execution_count": null,
      "outputs": []
    },
    {
      "cell_type": "code",
      "metadata": {
        "id": "vqts25A3Gy0J",
        "colab_type": "code",
        "colab": {}
      },
      "source": [
        "a = 2\n",
        "def f():\n",
        "    global a\n",
        "    a = 3\n",
        "    print(a)\n",
        "\n",
        "f()\n",
        "print(a)"
      ],
      "execution_count": null,
      "outputs": []
    },
    {
      "cell_type": "code",
      "metadata": {
        "id": "B7ocDOfhGy0L",
        "colab_type": "code",
        "colab": {}
      },
      "source": [
        "def f():\n",
        "    def adder():\n",
        "        nonlocal a\n",
        "        a += 1\n",
        "    a = 0\n",
        "    adder()\n",
        "    print(a)\n",
        "\n",
        "f()"
      ],
      "execution_count": null,
      "outputs": []
    },
    {
      "cell_type": "markdown",
      "metadata": {
        "id": "reUv9P3oGy0N",
        "colab_type": "text"
      },
      "source": [
        "## Unpacking"
      ]
    },
    {
      "cell_type": "code",
      "metadata": {
        "id": "pQVbNN2FGy0N",
        "colab_type": "code",
        "colab": {}
      },
      "source": [
        "a, b, c = 1, 2, 3"
      ],
      "execution_count": null,
      "outputs": []
    },
    {
      "cell_type": "code",
      "metadata": {
        "id": "r68JjbEDGy0O",
        "colab_type": "code",
        "colab": {}
      },
      "source": [
        "a, *b, c = range(10)"
      ],
      "execution_count": null,
      "outputs": []
    },
    {
      "cell_type": "code",
      "metadata": {
        "id": "NRpAIYC7Gy0P",
        "colab_type": "code",
        "colab": {}
      },
      "source": [
        "((a, b), (c, d)) = [[1, 2], [3, 4]]"
      ],
      "execution_count": null,
      "outputs": []
    },
    {
      "cell_type": "markdown",
      "metadata": {
        "id": "Xmid20EXGy0Q",
        "colab_type": "text"
      },
      "source": [
        "## Funzioni anonime\n",
        "In Python sono limitate ad una singola espressione"
      ]
    },
    {
      "cell_type": "code",
      "metadata": {
        "id": "HQepRBT6Gy0Q",
        "colab_type": "code",
        "colab": {}
      },
      "source": [
        "list(map(lambda x: x**2, [1, 2, 3, 4]))"
      ],
      "execution_count": null,
      "outputs": []
    },
    {
      "cell_type": "code",
      "metadata": {
        "id": "whWVpXsoGy0R",
        "colab_type": "code",
        "colab": {}
      },
      "source": [
        "def my_sum(a, b):\n",
        "    return a + b"
      ],
      "execution_count": null,
      "outputs": []
    },
    {
      "cell_type": "code",
      "metadata": {
        "id": "H9rMZ6yUGy0T",
        "colab_type": "code",
        "colab": {}
      },
      "source": [
        "my_sum(*[1, 2])"
      ],
      "execution_count": null,
      "outputs": []
    },
    {
      "cell_type": "code",
      "metadata": {
        "id": "BuzA-KVtGy0U",
        "colab_type": "code",
        "colab": {}
      },
      "source": [
        "my_sum(**{'a': 1, 'b': 2})"
      ],
      "execution_count": null,
      "outputs": []
    },
    {
      "cell_type": "markdown",
      "metadata": {
        "id": "DDEPwfArGy0V",
        "colab_type": "text"
      },
      "source": [
        "## Comprehensions"
      ]
    },
    {
      "cell_type": "code",
      "metadata": {
        "id": "fwSBxuaSGy0X",
        "colab_type": "code",
        "colab": {}
      },
      "source": [
        "squares = {i: i * i for i in range(10)}"
      ],
      "execution_count": null,
      "outputs": []
    },
    {
      "cell_type": "code",
      "metadata": {
        "id": "UK5nylqCw6u5",
        "colab_type": "code",
        "colab": {}
      },
      "source": [
        "[(i, j) for i in range(4) for j in range(4)]"
      ],
      "execution_count": null,
      "outputs": []
    },
    {
      "cell_type": "code",
      "metadata": {
        "id": "exg261ZQGy0W",
        "colab_type": "code",
        "colab": {}
      },
      "source": [
        "[i**2 for i in range(10) if i%2 == 0]"
      ],
      "execution_count": null,
      "outputs": []
    },
    {
      "cell_type": "code",
      "metadata": {
        "id": "VUkfDkDLGy0Y",
        "colab_type": "code",
        "colab": {}
      },
      "source": [
        "# generator. Lazy evaluation\n",
        "(i**2 for i in range(10) if i%2 == 0)"
      ],
      "execution_count": null,
      "outputs": []
    },
    {
      "cell_type": "markdown",
      "metadata": {
        "id": "tfKc_S1oGy0Z",
        "colab_type": "text"
      },
      "source": [
        "## decoratori"
      ]
    },
    {
      "cell_type": "code",
      "metadata": {
        "id": "NBiYMwTzGy0Z",
        "colab_type": "code",
        "colab": {}
      },
      "source": [
        "import functools\n",
        "\n",
        "def memoize(f):\n",
        "    cache = {}\n",
        "    @functools.wraps(f)\n",
        "    def memoized_f(arg):\n",
        "        try:\n",
        "            res = cache[arg]\n",
        "        except:\n",
        "            res = f(arg)\n",
        "            cache[arg] = res\n",
        "        return res\n",
        "    return memoized_f\n",
        "\n",
        "# fib = memoize(fib)        \n",
        "@memoize\n",
        "def fib(n):\n",
        "    if n == 0 or n==1:\n",
        "        return 1\n",
        "    \n",
        "    return fib(n-1) + fib(n-2)"
      ],
      "execution_count": null,
      "outputs": []
    },
    {
      "cell_type": "code",
      "metadata": {
        "id": "SQ9x5aegGy0a",
        "colab_type": "code",
        "colab": {}
      },
      "source": [
        "# !s converte con str\n",
        "# !s converte con rep\n",
        "def debug(func):\n",
        "    \"\"\"Print the function signature and return value\"\"\"\n",
        "    @functools.wraps(func)\n",
        "    def wrapper_debug(*args, **kwargs):\n",
        "        args_repr = [repr(a) for a in args]                      # 1\n",
        "        kwargs_repr = [f\"{k}={v!r}\" for k, v in kwargs.items()]  # 2\n",
        "        signature = \", \".join(args_repr + kwargs_repr)           # 3\n",
        "        print(f\"Calling {func.__name__}({signature})\")\n",
        "        value = func(*args, **kwargs)\n",
        "        print(f\"{func.__name__!r} returned {value!r}\")           # 4\n",
        "        return value\n",
        "    return wrapper_debug"
      ],
      "execution_count": null,
      "outputs": []
    },
    {
      "cell_type": "code",
      "metadata": {
        "id": "A0r-wFe0sCL8",
        "colab_type": "code",
        "colab": {}
      },
      "source": [
        "# Esercizio\n",
        "# Scrivere un decoratore che scrive a video quando la funzione\n",
        "# viene invocata e quando ritorna (insieme alla durata dell'esecuzione)"
      ],
      "execution_count": null,
      "outputs": []
    },
    {
      "cell_type": "markdown",
      "metadata": {
        "id": "4sHsLIHHGy0b",
        "colab_type": "text"
      },
      "source": [
        "## Classi"
      ]
    },
    {
      "cell_type": "code",
      "metadata": {
        "id": "n6D_-ng9Gy0b",
        "colab_type": "code",
        "colab": {}
      },
      "source": [
        "class FirstClass:\n",
        "    pass # istruzione vuota"
      ],
      "execution_count": null,
      "outputs": []
    },
    {
      "cell_type": "code",
      "metadata": {
        "id": "lCoamdZZGy0c",
        "colab_type": "code",
        "colab": {}
      },
      "source": [
        "# docstring su una classe\n",
        "class Customer(object):\n",
        "    \"\"\"A customer of ABC Bank with a checking account. Customers have the\n",
        "    following properties:\n",
        "\n",
        "    Attributes:\n",
        "        name: A string representing the customer's name.\n",
        "        balance: A float tracking the current balance of the customer's account.\n",
        "    \"\"\"\n",
        "\n",
        "    def __init__(self, name, balance=0.0):\n",
        "        \"\"\"Return a Customer object whose name is *name* and starting\n",
        "        balance is *balance*.\"\"\"\n",
        "        self.name = name\n",
        "        self.balance = balance\n",
        "\n",
        "    def withdraw(self, amount):\n",
        "        \"\"\"Return the balance remaining after withdrawing *amount*\n",
        "        dollars.\"\"\"\n",
        "        if amount > self.balance:\n",
        "            raise RuntimeError('Amount greater than available balance.')\n",
        "        self.balance -= amount\n",
        "        return self.balance\n",
        "\n",
        "    def deposit(self, amount):\n",
        "        \"\"\"Return the balance remaining after depositing *amount*\n",
        "        dollars.\"\"\"\n",
        "        self.balance += amount\n",
        "        return self.balance"
      ],
      "execution_count": null,
      "outputs": []
    },
    {
      "cell_type": "code",
      "metadata": {
        "id": "ESKaKGnsGy0e",
        "colab_type": "code",
        "colab": {}
      },
      "source": [
        "help(Customer)"
      ],
      "execution_count": null,
      "outputs": []
    },
    {
      "cell_type": "markdown",
      "metadata": {
        "id": "GYsqtSGRGy0f",
        "colab_type": "text"
      },
      "source": [
        "## Ereditarietà"
      ]
    },
    {
      "cell_type": "code",
      "metadata": {
        "id": "2QVjoAzhGy0f",
        "colab_type": "code",
        "colab": {}
      },
      "source": [
        "class Employee:\n",
        "    def __init__(self, id, name):\n",
        "        self.id = id\n",
        "        self.name = name"
      ],
      "execution_count": null,
      "outputs": []
    },
    {
      "cell_type": "code",
      "metadata": {
        "id": "eKuySvs3Gy0g",
        "colab_type": "code",
        "colab": {}
      },
      "source": [
        "employee_1 = Employee(id=1, name='Andrea')\n",
        "employee_2 = Employee(id=1, name='Andrea')\n",
        "\n",
        "employee_1 == employee_2, employee_1 is employee_2"
      ],
      "execution_count": null,
      "outputs": []
    },
    {
      "cell_type": "code",
      "metadata": {
        "id": "mCuQMdnfGy0h",
        "colab_type": "code",
        "colab": {}
      },
      "source": [
        "class Employee:\n",
        "    def __init__(self, id, name):\n",
        "        self.id = id\n",
        "        self.name = name\n",
        "\n",
        "    def __eq__(self, other):\n",
        "        return self.id == other.id and self.name == other.name"
      ],
      "execution_count": null,
      "outputs": []
    },
    {
      "cell_type": "code",
      "metadata": {
        "id": "QSX800rJGy0i",
        "colab_type": "code",
        "colab": {}
      },
      "source": [
        "employee_1 = Employee(id=1, name='Andrea')\n",
        "employee_2 = Employee(id=1, name='Andrea')\n",
        "\n",
        "employee_1 == employee_2, employee_1 is employee_2"
      ],
      "execution_count": null,
      "outputs": []
    },
    {
      "cell_type": "code",
      "metadata": {
        "id": "oaICSbRkGy0j",
        "colab_type": "code",
        "colab": {}
      },
      "source": [
        "id(employee_1), id(employee_2)"
      ],
      "execution_count": null,
      "outputs": []
    },
    {
      "cell_type": "code",
      "metadata": {
        "id": "PZ5yo-ovGy0k",
        "colab_type": "code",
        "colab": {}
      },
      "source": [
        "class SalaryEmployee(Employee):\n",
        "    def __init__(self, id, name, weekly_salary):\n",
        "        super().__init__(id, name)\n",
        "        self.weekly_salary = weekly_salary\n",
        "\n",
        "    def calculate_payroll(self):\n",
        "        return self.weekly_salary\n",
        "\n",
        "class HourlyEmployee(Employee):\n",
        "    def __init__(self, id, name, hours_worked, hour_rate):\n",
        "        super().__init__(id, name)\n",
        "        self.hours_worked = hours_worked\n",
        "        self.hour_rate = hour_rate\n",
        "\n",
        "    def calculate_payroll(self):\n",
        "        return self.hours_worked * self.hour_rate"
      ],
      "execution_count": null,
      "outputs": []
    },
    {
      "cell_type": "code",
      "metadata": {
        "id": "7cttqJWAGy0l",
        "colab_type": "code",
        "colab": {}
      },
      "source": [
        "s_employee = SalaryEmployee(id=1, name='Andrea', weekly_salary=10_000)\n",
        "type(s_employee), type(s_employee) == SalaryEmployee, type(s_employee) == Employee, isinstance(s_employee, SalaryEmployee), isinstance(s_employee, Employee)"
      ],
      "execution_count": null,
      "outputs": []
    },
    {
      "cell_type": "code",
      "metadata": {
        "id": "iSSmOKv9Gy0m",
        "colab_type": "code",
        "colab": {}
      },
      "source": [
        "# Named tuple"
      ],
      "execution_count": null,
      "outputs": []
    },
    {
      "cell_type": "code",
      "metadata": {
        "id": "LvUFvzJQGy0n",
        "colab_type": "code",
        "colab": {}
      },
      "source": [
        "from collections import namedtuple"
      ],
      "execution_count": null,
      "outputs": []
    },
    {
      "cell_type": "code",
      "metadata": {
        "id": "vjNWj7SwGy0o",
        "colab_type": "code",
        "colab": {}
      },
      "source": [
        "Car = namedtuple(\"Car\", [\"color\", \"make\", \"model\", \"mileage\"])\n",
        "my_car = Car(color=\"midnight silver\", make=\"Tesla\", model=\"Model Y\", mileage=5)\n",
        "my_car.color"
      ],
      "execution_count": null,
      "outputs": []
    },
    {
      "cell_type": "code",
      "metadata": {
        "id": "X8MLviHxGy0q",
        "colab_type": "code",
        "colab": {}
      },
      "source": [
        "# gratis: init, uguaglianza, rappresentazione come stringa, hash\n",
        "from dataclasses import dataclass\n",
        "\n",
        "@dataclass\n",
        "class InventoryItem:\n",
        "    '''Class for keeping track of an item in inventory.'''\n",
        "    name: str\n",
        "    unit_price: float\n",
        "    quantity_on_hand: int = 0\n",
        "\n",
        "    def total_cost(self) -> float:\n",
        "        return self.unit_price * self.quantity_on_hand"
      ],
      "execution_count": null,
      "outputs": []
    },
    {
      "cell_type": "markdown",
      "metadata": {
        "id": "o6M8hqKOGy0r",
        "colab_type": "text"
      },
      "source": [
        "## Copia e copia profonda"
      ]
    },
    {
      "cell_type": "code",
      "metadata": {
        "id": "aANQFAq5Gy0r",
        "colab_type": "code",
        "colab": {}
      },
      "source": [
        "import copy\n",
        "\n",
        "a = [[1, 2, 3], [4, 5, 6]]\n",
        "s_copy = copy.copy(a)\n",
        "d_copy = copy.deepcopy(a)\n",
        "a[0][0] = 0\n",
        "a, s_copy, d_copy"
      ],
      "execution_count": null,
      "outputs": []
    },
    {
      "cell_type": "code",
      "metadata": {
        "id": "1s6AOKeNGy0s",
        "colab_type": "code",
        "colab": {}
      },
      "source": [
        ""
      ],
      "execution_count": null,
      "outputs": []
    },
    {
      "cell_type": "markdown",
      "metadata": {
        "id": "164Dt7QyGy0t",
        "colab_type": "text"
      },
      "source": [
        "## generatori\n",
        "\n",
        "Ritornano un iteratore"
      ]
    },
    {
      "cell_type": "code",
      "metadata": {
        "id": "K7hRzj3UGy0u",
        "colab_type": "code",
        "colab": {}
      },
      "source": [
        "def infinite_sequence():\n",
        "    num = 0\n",
        "    while True:\n",
        "        yield num\n",
        "        num += 1"
      ],
      "execution_count": null,
      "outputs": []
    },
    {
      "cell_type": "code",
      "metadata": {
        "id": "EEaa288sszt9",
        "colab_type": "code",
        "colab": {}
      },
      "source": [
        "# esercizio\n",
        "\n",
        "def prime_number_generator():\n",
        "    ''' Restituisce tutti i numeri primi'''"
      ],
      "execution_count": null,
      "outputs": []
    },
    {
      "cell_type": "markdown",
      "metadata": {
        "id": "o-Np-f_hGy0v",
        "colab_type": "text"
      },
      "source": [
        "## Metodi magici\n",
        "Sono metodi che vengono chiamati dall'interprete di Python"
      ]
    },
    {
      "cell_type": "code",
      "metadata": {
        "id": "-7dy2x02Gy0v",
        "colab_type": "code",
        "colab": {}
      },
      "source": [
        "# __call__\n",
        "class Callable:\n",
        "    def __call__(self):\n",
        "        print(\"I'm a callable object\")"
      ],
      "execution_count": null,
      "outputs": []
    },
    {
      "cell_type": "code",
      "metadata": {
        "id": "8xpJptkxGy0x",
        "colab_type": "code",
        "colab": {}
      },
      "source": [
        "Callable()()"
      ],
      "execution_count": null,
      "outputs": []
    },
    {
      "cell_type": "code",
      "metadata": {
        "id": "RQgEvuWUGy0z",
        "colab_type": "code",
        "colab": {}
      },
      "source": [
        "# Definisce una Sequenza. Una sequenza è anche un iterabile\n",
        "\n",
        "class MazzoDiCarteSequenza:\n",
        "    def __init__(self):\n",
        "        semi = 'coppe spade denara bastoni'.split(' ')\n",
        "        self.mazzo = [(numero, seme) for numero in seme in semi for numero in range(1, 11)]\n",
        "    def __len__(self):\n",
        "        return 40\n",
        "\n",
        "    def __getitem__(self, idx):\n",
        "        if not 1 <= idx <= 40:\n",
        "            raise ValueError(\"l'indice deve essere compreso tr 1 e 40\")\n",
        "        return self.mazzo[idx]"
      ],
      "execution_count": null,
      "outputs": []
    },
    {
      "cell_type": "code",
      "metadata": {
        "id": "wHMCW5qBGy01",
        "colab_type": "code",
        "colab": {}
      },
      "source": [
        "# definisce un iterabile\n",
        "# ritornando self non è possibile ritornare più iteratori\n",
        "class Counter:\n",
        "    def __init__(self, n):\n",
        "        self.n = n\n",
        "    \n",
        "    def __iter__(self):\n",
        "        self.count = self.n\n",
        "        return self\n",
        "\n",
        "    def __next__(self):\n",
        "        if self.count == 0:\n",
        "            raise StopIteration\n",
        "\n",
        "        self.count -= 1\n",
        "        return self.count"
      ],
      "execution_count": null,
      "outputs": []
    },
    {
      "cell_type": "code",
      "metadata": {
        "id": "Sh42rVj7Gy03",
        "colab_type": "code",
        "colab": {}
      },
      "source": [
        "c = Counter(10)\n",
        "for num in c:\n",
        "    print(num)"
      ],
      "execution_count": null,
      "outputs": []
    },
    {
      "cell_type": "code",
      "metadata": {
        "id": "H1qf541OtO7h",
        "colab_type": "code",
        "colab": {}
      },
      "source": [
        "class Vector:\n",
        "    ''' Rappresenta un vettore 1-dimensionale.\n",
        "\n",
        "    E' possibile:\n",
        "    * Somma tra vettori: a + b\n",
        "    * Prodotto scalare a * b\n",
        "    * La print restituisce <a_1, a_2, ..., a_n>\n",
        "    * il metodo norm restitusce la norma\n",
        "    * è una classe hashable\n",
        "    '''\n",
        "    pass"
      ],
      "execution_count": null,
      "outputs": []
    },
    {
      "cell_type": "markdown",
      "metadata": {
        "id": "zLqmhEvjGy05",
        "colab_type": "text"
      },
      "source": [
        "## libreria standard"
      ]
    },
    {
      "cell_type": "markdown",
      "metadata": {
        "id": "Azoi04ODGy05",
        "colab_type": "text"
      },
      "source": [
        "### re"
      ]
    },
    {
      "cell_type": "code",
      "metadata": {
        "id": "w0jfrJSaGy05",
        "colab_type": "code",
        "colab": {}
      },
      "source": [
        "import re\n",
        "\n",
        "email_pattern = '[a-zA-Z0-9._%+-]+@([a-zA-Z0-9.-]+)\\.([a-zA-Z]{2,})'\n",
        "result = re.match(email_pattern, 'andrea.mercuri@tiscali.it')\n",
        "\n",
        "result.group(0), result.group(1), result.group(2)"
      ],
      "execution_count": null,
      "outputs": []
    },
    {
      "cell_type": "markdown",
      "metadata": {
        "id": "MT76tenNGy06",
        "colab_type": "text"
      },
      "source": [
        "### math"
      ]
    },
    {
      "cell_type": "code",
      "metadata": {
        "id": "9AG_aGsPGy07",
        "colab_type": "code",
        "colab": {}
      },
      "source": [
        "import math\n",
        "\n",
        "math.sin(math.pi / 2)"
      ],
      "execution_count": null,
      "outputs": []
    },
    {
      "cell_type": "code",
      "metadata": {
        "id": "hZmCCANrGy08",
        "colab_type": "code",
        "colab": {}
      },
      "source": [
        "# le eccezioni ereditano dalla classe Exception\n",
        "\n",
        "try:\n",
        "    1/0\n",
        "except Exception as e:\n",
        "    print(e)\n",
        "    # raise\n",
        "else:\n",
        "    print('tutto bene!')\n",
        "finally:\n",
        "    print('questo lo scrivo comunque!')"
      ],
      "execution_count": null,
      "outputs": []
    },
    {
      "cell_type": "markdown",
      "metadata": {
        "id": "XYmoINjUGy09",
        "colab_type": "text"
      },
      "source": [
        "### random"
      ]
    },
    {
      "cell_type": "code",
      "metadata": {
        "id": "b9ZePisxGy09",
        "colab_type": "code",
        "colab": {}
      },
      "source": [
        "import random"
      ],
      "execution_count": null,
      "outputs": []
    },
    {
      "cell_type": "code",
      "metadata": {
        "id": "bmyN86A8Gy0-",
        "colab_type": "code",
        "colab": {}
      },
      "source": [
        "random.random()"
      ],
      "execution_count": null,
      "outputs": []
    },
    {
      "cell_type": "code",
      "metadata": {
        "id": "3AXa-3xhGy0_",
        "colab_type": "code",
        "colab": {}
      },
      "source": [
        "# estremi inclusi\n",
        "random.randint(1, 10)"
      ],
      "execution_count": null,
      "outputs": []
    },
    {
      "cell_type": "code",
      "metadata": {
        "id": "7iSsy7hyGy1H",
        "colab_type": "code",
        "colab": {}
      },
      "source": [
        "random.seed(0)\n",
        "print(random.random())\n",
        "random.seed(0)\n",
        "print(random.random())"
      ],
      "execution_count": null,
      "outputs": []
    },
    {
      "cell_type": "code",
      "metadata": {
        "id": "NEx5jDO9Gy1I",
        "colab_type": "code",
        "colab": {}
      },
      "source": [
        "random.choice(['a', 'b', 'c'])"
      ],
      "execution_count": null,
      "outputs": []
    },
    {
      "cell_type": "code",
      "metadata": {
        "id": "ZjxNTWMrGy1I",
        "colab_type": "code",
        "colab": {}
      },
      "source": [
        "random.gauss(mu=10, sigma=3)"
      ],
      "execution_count": null,
      "outputs": []
    },
    {
      "cell_type": "markdown",
      "metadata": {
        "id": "CsvHwDIvGy1J",
        "colab_type": "text"
      },
      "source": [
        "### serializzazione"
      ]
    },
    {
      "cell_type": "code",
      "metadata": {
        "id": "E8GjEtvOGy1J",
        "colab_type": "code",
        "colab": {}
      },
      "source": [
        "import pickle\n",
        "with open('dump', 'wb') as f:\n",
        "    pickle.dump([1,2,3], f)\n",
        "\n",
        "with open('dump', 'rb') as f:\n",
        "    l = pickle.load(f)\n",
        "\n",
        "print(l)"
      ],
      "execution_count": null,
      "outputs": []
    },
    {
      "cell_type": "markdown",
      "metadata": {
        "id": "DNlhTsU8Gy1K",
        "colab_type": "text"
      },
      "source": [
        "# Varie"
      ]
    },
    {
      "cell_type": "code",
      "metadata": {
        "id": "npcc5lPJGy1K",
        "colab_type": "code",
        "colab": {}
      },
      "source": [
        "any([x<3 for x in [1, 2, 3, 4]])"
      ],
      "execution_count": null,
      "outputs": []
    },
    {
      "cell_type": "code",
      "metadata": {
        "id": "8Cos3jwxGy1L",
        "colab_type": "code",
        "colab": {}
      },
      "source": [
        "all([x<3 for x in [1, 2, 3, 4]])"
      ],
      "execution_count": null,
      "outputs": []
    },
    {
      "cell_type": "code",
      "metadata": {
        "id": "4bOQpr87Gy1M",
        "colab_type": "code",
        "colab": {}
      },
      "source": [
        "for a, b in zip(range(10), [1, 2]*5):\n",
        "    print(f'a={a}, b={b}')"
      ],
      "execution_count": null,
      "outputs": []
    },
    {
      "cell_type": "code",
      "metadata": {
        "id": "-TJZ7C9SGy1N",
        "colab_type": "code",
        "colab": {}
      },
      "source": [
        "l = ['a', 'e', 'i', 'o', 'u']\n",
        "for i, elem in enumerate(l):\n",
        "    print(f'i={i}, elem={elem}')"
      ],
      "execution_count": null,
      "outputs": []
    },
    {
      "cell_type": "code",
      "metadata": {
        "id": "0Zv2O5QcGy1N",
        "colab_type": "code",
        "colab": {}
      },
      "source": [
        "a, b = 1, 2\n",
        "a, b = b, a\n",
        "a, b"
      ],
      "execution_count": null,
      "outputs": []
    },
    {
      "cell_type": "markdown",
      "metadata": {
        "id": "_LUNMk6iGy1O",
        "colab_type": "text"
      },
      "source": [
        "# type hints"
      ]
    },
    {
      "cell_type": "code",
      "metadata": {
        "id": "_1hC_tCtGy1O",
        "colab_type": "code",
        "colab": {}
      },
      "source": [
        "def typed_sum(a:float, b:float):\n",
        "    return a + b"
      ],
      "execution_count": null,
      "outputs": []
    },
    {
      "cell_type": "code",
      "metadata": {
        "id": "sYU2jBxnGy1P",
        "colab_type": "code",
        "colab": {}
      },
      "source": [
        "from typing import Union\n",
        "from pathlib import Path\n",
        "\n",
        "def open_file(path: Union[Path, str]):\n",
        "    pass"
      ],
      "execution_count": null,
      "outputs": []
    },
    {
      "cell_type": "code",
      "metadata": {
        "id": "ygYFcx8xGy1Q",
        "colab_type": "code",
        "colab": {}
      },
      "source": [
        "from typing import Sequence\n",
        "\n",
        "def my_reverse(seq: Sequence):\n",
        "    return reversed(seq)"
      ],
      "execution_count": null,
      "outputs": []
    },
    {
      "cell_type": "markdown",
      "metadata": {
        "id": "HFyS5V80Gy1Q",
        "colab_type": "text"
      },
      "source": [
        ""
      ]
    },
    {
      "cell_type": "markdown",
      "metadata": {
        "id": "snh4qtxLGy1R",
        "colab_type": "text"
      },
      "source": [
        "## Linee guida stilistiche\n",
        "[PEP8](https://www.python.org/dev/peps/pep-0008/)"
      ]
    }
  ]
}